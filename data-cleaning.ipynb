{
 "cells": [
  {
   "cell_type": "code",
   "execution_count": null,
   "metadata": {
    "scrolled": true
   },
   "outputs": [],
   "source": [
    "# Libraries\n",
    "import pandas as pd\n",
    "import numpy as np\n",
    "import os\n",
    "import statsmodels.api as sm\n",
    "from scipy.stats import poisson, chi2, chisquare, norm\n",
    "import matplotlib.pyplot as plt\n",
    "import seaborn as sns\n",
    "import this"
   ]
  },
  {
   "cell_type": "code",
   "execution_count": null,
   "metadata": {},
   "outputs": [],
   "source": [
    "# Versions\n",
    "print(\"pandas version:\", pd.__version__)\n",
    "print(\"numpy version:\", np.__version__)\n",
    "#print(\"statsmodels version:\", sm.__version__)"
   ]
  },
  {
   "cell_type": "code",
   "execution_count": null,
   "metadata": {},
   "outputs": [],
   "source": [
    "# Directories & Files\n",
    "os.listdir()\n",
    "\n",
    "# Datasets directory\n",
    "directory = \"./datasets/\""
   ]
  },
  {
   "cell_type": "code",
   "execution_count": null,
   "metadata": {},
   "outputs": [],
   "source": [
    "# Setting the \n",
    "datasets = {\"five38\": \"spi_matches.csv\", \n",
    "            \"belgium\": \"belgium.csv\",\n",
    "            \"champions\": \"champs.csv\",\n",
    "            \"deductions\": \"deductions.csv\",\n",
    "            \"eng_club_data\": \"england_club_data.csv\",\n",
    "            \"eng_nonleague\": \"england_nonleague.csv\",\n",
    "            \"england\": \"england.csv\",\n",
    "            \"eng_playoffs\": \"englandplayoffs.csv\",\n",
    "            \"fa_cup\": \"facup.csv\",\n",
    "            \"france\": \"france.csv\",\n",
    "            \"germany\": \"germany.csv\",\n",
    "            \"germany2\": \"germany2.csv\",\n",
    "            \"greece\": \"greece.csv\",\n",
    "            \"holland\": \"holland.csv\",\n",
    "            \"italy\": \"italy.csv\",\n",
    "            \"league_cup_test\": \"leagucuptest.csv\",\n",
    "            \"league_cup\": \"leaguecup.csv\",\n",
    "            \"mls\": \"mls.csv\",\n",
    "            \"mls_conference\": \"mlsconfs.csv\",\n",
    "            \"portugal\": \"portugal.csv\",\n",
    "            \"south_africa\": \"safrica.csv\",\n",
    "            \"scotland\": \"scotland.csv\",\n",
    "            \"turkey\": \"turkey.csv\",\n",
    "            \"team_names\": \"teamnames.csv\",\n",
    "            \"spain\": \"spain.csv\"}"
   ]
  },
  {
   "cell_type": "code",
   "execution_count": null,
   "metadata": {},
   "outputs": [],
   "source": [
    "# Creating the DataFrames\n",
    "for name in datasets:\n",
    "    print(name)\n",
    "    globals()[name] = pd.read_csv(directory + datasets[name])\n",
    "    \n",
    "#dataframes = {f\"{name}\": globals()[name] = pd.read_csv(directory + datasets[name]) for name in datasets}"
   ]
  },
  {
   "cell_type": "code",
   "execution_count": null,
   "metadata": {},
   "outputs": [],
   "source": [
    "# Cleaning five38\n",
    "five38.head()"
   ]
  },
  {
   "cell_type": "code",
   "execution_count": null,
   "metadata": {},
   "outputs": [],
   "source": [
    "# reducing five38 to date, league, team1 (Home Team), team2 (Away Team), score1 (Home Goals), \n",
    "# score 2 (Away Goals)\n",
    "\n",
    "five_redux = five38[[\"date\", \"league\", \"team1\", \"team2\", \"score1\", \"score2\"]]\n",
    "five_redux"
   ]
  },
  {
   "cell_type": "code",
   "execution_count": null,
   "metadata": {},
   "outputs": [],
   "source": [
    "# checking Series types\n",
    "five_redux.dtypes"
   ]
  },
  {
   "cell_type": "code",
   "execution_count": null,
   "metadata": {},
   "outputs": [],
   "source": [
    "# checking for nulls\n",
    "print(\"Nulls:\\n\", five_redux.isnull().sum())\n",
    "print()\n",
    "print(\"Na's %:\\n\", five_redux.isna().mean().round(4) * 100)"
   ]
  },
  {
   "cell_type": "code",
   "execution_count": null,
   "metadata": {},
   "outputs": [],
   "source": []
  },
  {
   "cell_type": "code",
   "execution_count": null,
   "metadata": {},
   "outputs": [],
   "source": [
    "# defining a couple of functions to provide me info about the nulls\n",
    "def null_cols(ds):\n",
    "    \"\"\"check whether the value in each field is missing (null) and return either \n",
    "    True or False for each field, totaling up the number of True values by column.\"\"\"\n",
    "    return ds.isnull().sum()\n",
    "\n",
    "def na_cols(ds):\n",
    "    \"\"\"Does the same as null_cols, but returns the value as a percentage. \n",
    "    Useful to decide where to drop.\"\"\"\n",
    "    return ds.isna().mean().round(4) * 100"
   ]
  },
  {
   "cell_type": "code",
   "execution_count": null,
   "metadata": {},
   "outputs": [],
   "source": [
    "# creating a dict to map df names to \n",
    "dataframes = {\"five38_redux\": five_redux, \n",
    "            \"be\": belgium,\n",
    "            \"ucl\": champions,\n",
    "            \"duducts\": deductions,\n",
    "            \"eng_club\": eng_club_data,\n",
    "            \"eng_non_league\": eng_nonleague,\n",
    "            \"eng\": england,\n",
    "            \"england_playoffs\": eng_playoffs,\n",
    "            \"cup_fa\": fa_cup,\n",
    "            \"fr\": france,\n",
    "            \"ger\": germany,\n",
    "            \"ger2\": germany2,\n",
    "            \"gr\": greece,\n",
    "            \"ned\": holland,\n",
    "            \"ita\": italy,\n",
    "            \"l_cup_test\": league_cup_test,\n",
    "            \"l_cup\": league_cup,\n",
    "            \"usa\": mls,\n",
    "            \"conference\": mls_conference,\n",
    "            \"pt\": portugal,\n",
    "            \"sa\": south_africa,\n",
    "            \"sco\": scotland,\n",
    "            \"trkey\": turkey,\n",
    "            \"teamnames\": team_names,\n",
    "            \"spa\": spain}"
   ]
  },
  {
   "cell_type": "code",
   "execution_count": null,
   "metadata": {},
   "outputs": [],
   "source": [
    "# checking if the df's have (or not) nulls in them\n",
    "for name in dataframes:\n",
    "    print(name, null_cols(dataframes[name]), \"\\n\")\n",
    "\n",
    "# five38_redux has on score1 and score 2\n",
    "# ucl has on leg, HT, aet, pens, aethgoal, aetvgoal and tiewinner\n",
    "# eng_club has on highest_div, col1, col2, short_name, three_letter_name, nicknames\n",
    "# eng_non_league has on Date\n",
    "# eng has on division\n",
    "# england_playoffs has on aet, pen, Venue, attendance, neutral\n",
    "# cup_fa has on Date, visitor, FT, hgoal, vgoal, tie, aet, pen, pens, hp, vp, Venue, \\\n",
    "# attendance, nonmatch, notes, neutral\n",
    "# l_cup_test has on aet, pens, Venue, attendance, northsouth\n",
    "# l_cup has on aet, pens, Venue, attendance, northsouth\n",
    "# usa has on leg, hgoalaet, vgoalaet, hpen, vpen\n",
    "# conference has on every col except team\n",
    "# teamnames has on name_other and most_recent\n",
    "# spa has on HT, group and notes\n",
    "\n",
    "# be, duducts Season, fr, ger, ger2, ned, ita, pt, sa, sco, trkey,  don't"
   ]
  },
  {
   "cell_type": "code",
   "execution_count": null,
   "metadata": {},
   "outputs": [],
   "source": [
    "# looking at nulls characteristics\n",
    "five_redux[five_redux.isnull().any(axis = 1)][\"date\"].unique()"
   ]
  },
  {
   "cell_type": "code",
   "execution_count": null,
   "metadata": {},
   "outputs": [],
   "source": [
    "# droping all nulls that are from today (26 Feb. 2020) onwards\n",
    "# AFTER converting dtype to datetime \n",
    "five_redux[\"date\"] = pd.to_datetime(five_redux[\"date\"])#, format = \"%d/%m/%Y\")"
   ]
  },
  {
   "cell_type": "code",
   "execution_count": null,
   "metadata": {},
   "outputs": [],
   "source": [
    "# checking if \"date\" was converted to datetime correctly\n",
    "five_redux.dtypes"
   ]
  },
  {
   "cell_type": "code",
   "execution_count": null,
   "metadata": {},
   "outputs": [],
   "source": [
    "# so NOW dropping the nulls from this date onwards (it had 3830 in score1 and score 2):\n",
    "new_five38 = five_redux.loc[(five_redux[\"date\"] < \"2020-02-26\")]"
   ]
  },
  {
   "cell_type": "code",
   "execution_count": null,
   "metadata": {},
   "outputs": [],
   "source": [
    "# now it only has 10 in each column, so we can see them:\n",
    "new_five38.isna().sum()\n",
    "\n",
    "# entity 26630 was Postponed, 28235 was Suspended, 29616 was Postponed, 29624 was Postponed,\n",
    "# 29884 was Postponed, and all the others where postponed due to the Corona Virus Outbreak\n",
    "# in Italy, so I'll drop them to.\n",
    "new_five38.loc[five_redux.isnull().any(axis = 1)]"
   ]
  },
  {
   "cell_type": "code",
   "execution_count": null,
   "metadata": {},
   "outputs": [],
   "source": [
    "# droping\n",
    "new_five38.dropna(inplace = True)"
   ]
  },
  {
   "cell_type": "code",
   "execution_count": null,
   "metadata": {},
   "outputs": [],
   "source": [
    "# checking if they where droped\n",
    "new_five38.isna().sum()\n",
    "\n",
    "# comparing the original dataframe to the actual (from: 34010, to: 30180, which is: 3830. \n",
    "# so all should be well\n",
    "print(five38.shape, new_five38.shape)"
   ]
  },
  {
   "cell_type": "code",
   "execution_count": null,
   "metadata": {},
   "outputs": [],
   "source": [
    "# rechecking the head\n",
    "new_five38.head()"
   ]
  },
  {
   "cell_type": "code",
   "execution_count": null,
   "metadata": {},
   "outputs": [],
   "source": [
    "# chaging the names of the Series\n",
    "new_five38.rename(columns = {\"team1\": \"home\", \"team2\": \"away\", \n",
    "                             \"score1\": \"home_goals\", \"score2\": \"away_goals\"}, inplace = True)"
   ]
  },
  {
   "cell_type": "code",
   "execution_count": null,
   "metadata": {},
   "outputs": [],
   "source": [
    "# checking\n",
    "new_five38"
   ]
  },
  {
   "cell_type": "code",
   "execution_count": null,
   "metadata": {},
   "outputs": [],
   "source": [
    "# adding a new Series, \"t_goals\", which sums the home and away goals\n",
    "new_five38[\"t_goals\"] = new_five38[\"home_goals\"] + new_five38[\"away_goals\"]"
   ]
  },
  {
   "cell_type": "code",
   "execution_count": null,
   "metadata": {},
   "outputs": [],
   "source": [
    "# checking\n",
    "new_five38"
   ]
  },
  {
   "cell_type": "code",
   "execution_count": null,
   "metadata": {
    "scrolled": true
   },
   "outputs": [],
   "source": [
    "# Creating a \"season\" Series. This one maybe a bit trickier...\n",
    "new_five38.loc[(five_redux[\"date\"] > \"2019-07-01\") & (five_redux[\"date\"] < \"2020-07-01\") &\n",
    "               (five_redux[\"league\"] != \"Major League Soccer\") | \n",
    "               (five_redux[\"league\"] != \"United Soccer League\")]"
   ]
  },
  {
   "cell_type": "code",
   "execution_count": null,
   "metadata": {},
   "outputs": [],
   "source": [
    "portugal"
   ]
  },
  {
   "cell_type": "code",
   "execution_count": null,
   "metadata": {},
   "outputs": [],
   "source": [
    "# checking summary stats again\n",
    "round(new_five38.describe(), 2)"
   ]
  },
  {
   "cell_type": "code",
   "execution_count": null,
   "metadata": {},
   "outputs": [],
   "source": [
    "# checking the max goals\n",
    "new_five38.loc[new_five38[\"t_goals\"] == new_five38[\"t_goals\"].max()]\n",
    "new_five38.loc[new_five38[\"home_goals\"] == new_five38[\"home_goals\"].max()]\n",
    "new_five38.loc[new_five38[\"away_goals\"] == new_five38[\"away_goals\"].max()]"
   ]
  },
  {
   "cell_type": "code",
   "execution_count": null,
   "metadata": {},
   "outputs": [],
   "source": [
    "## EDA\n",
    "new_five38.columns"
   ]
  },
  {
   "cell_type": "code",
   "execution_count": null,
   "metadata": {},
   "outputs": [],
   "source": [
    "# looking at the distribuition of the data\n",
    "# staging the figure area and arranging the plots\n",
    "fig, (ax1, ax2, ax3) = plt.subplots(3, 1, figsize = (20, 20))\n",
    "\n",
    "# preparing the first plot\n",
    "ax1.hist(new_five38[\"home_goals\"], bins = 10, edgecolor = \"white\")\n",
    "ax1.set_title(\"home goals\")\n",
    "\n",
    "# the second plot\n",
    "ax2.hist(new_five38[\"away_goals\"], bins = 9, edgecolor = \"white\")\n",
    "ax2.set_title(\"away goals\")\n",
    "\n",
    "# and the third\n",
    "ax3.hist(new_five38[\"t_goals\"], bins = 12, edgecolor = \"white\")\n",
    "ax3.set_title(\"total goals\")\n",
    "\n",
    "# setting the bkg color to white (in case of export: https://stackoverflow.com/questions/4804005/matplotlib-figure-facecolor-background-color)\n",
    "fig.set_facecolor(\"white\")\n",
    "plt.show()"
   ]
  },
  {
   "cell_type": "code",
   "execution_count": null,
   "metadata": {},
   "outputs": [],
   "source": [
    "# looking at the distribuition of the data w/\n",
    "# creating a Density plot\n",
    "\n",
    "plt.figure(figsize = (16, 10))\n",
    "sns.set(rc = {\"axes.facecolor\": \"white\", \"figure.facecolor\": \"grey\"})\n",
    "\n",
    "p1 = sns.kdeplot(new_five38[\"home_goals\"], shade = True, kernel = \"tri\", alpha = 0.20, \n",
    "                 bw = 1, color = \"darkturquoise\")\n",
    "p1 = sns.kdeplot(new_five38[\"away_goals\"], shade = True, kernel = \"tri\", alpha = 0.20, \n",
    "                 bw = 1, color = \"sandybrown\")\n",
    "p1 = sns.kdeplot(new_five38[\"t_goals\"], shade = True, kernel = \"tri\", alpha = 0.20, \n",
    "                 bw = 1, color = \"mediumvioletred\")"
   ]
  },
  {
   "cell_type": "code",
   "execution_count": null,
   "metadata": {},
   "outputs": [],
   "source": [
    "# Inferential Statistics..?"
   ]
  },
  {
   "cell_type": "code",
   "execution_count": null,
   "metadata": {},
   "outputs": [],
   "source": [
    "# Calculate a few first moments(??)\n",
    "\n",
    "# Home Goals\n",
    "home_mu = new_five38[\"home_goals\"].mean()\n",
    "home_mean, home_var, home_skew, home_kurt = poisson.stats(home_mu, moments = \"mvsk\")\n",
    "\n",
    "# Away Goals\n",
    "away_mu = new_five38[\"away_goals\"].mean()\n",
    "away_mean, away_var, away_skew, away_kurt = poisson.stats(away_mu, moments = \"mvsk\")\n",
    "\n",
    "# Total Goals\n",
    "t_mu = new_five38[\"t_goals\"].mean()\n",
    "t_mean, t_var, t_skew, t_kurt = poisson.stats(t_mu, moments = \"mvsk\")"
   ]
  },
  {
   "cell_type": "code",
   "execution_count": null,
   "metadata": {},
   "outputs": [],
   "source": [
    "# Display the probability mass function (pmf):\n",
    "fig, (axhome, axaway, axt) = plt.subplots(3, 1, figsize = (12, 16))\n",
    "\n",
    "# Home Goals\n",
    "home_x = np.arange(poisson.ppf(0.01, home_mu), poisson.ppf(0.99, home_mu))\n",
    "axhome.plot(home_x, poisson.pmf(home_x, home_mu), \"bo\", ms = 8, \n",
    "            label = \"Home Goals poisson pmf\")\n",
    "axhome.vlines(home_x, 0, poisson.pmf(home_x, home_mu), colors = \"b\", lw = 5, alpha = 0.5)\n",
    "\n",
    "# Away Goals\n",
    "away_x = np.arange(poisson.ppf(0.01, away_mu), poisson.ppf(0.99, away_mu))\n",
    "axaway.plot(away_x, poisson.pmf(away_x, away_mu), \"bo\", ms = 8, \n",
    "            label = \"Away Goals poisson pmf\")\n",
    "axaway.vlines(away_x, 0, poisson.pmf(away_x, away_mu), colors = \"b\", lw = 5, alpha = 0.5)\n",
    "\n",
    "# Total Goals\n",
    "t_x = np.arange(poisson.ppf(0.01, t_mu), poisson.ppf(0.99, t_mu))\n",
    "axt.plot(t_x, poisson.pmf(t_x, t_mu), \"bo\", ms = 8, label = \"Total Goals poisson pmf\")\n",
    "axt.vlines(t_x, 0, poisson.pmf(t_x, t_mu), colors = \"b\", lw = 5, alpha = 0.5)"
   ]
  },
  {
   "cell_type": "code",
   "execution_count": null,
   "metadata": {},
   "outputs": [],
   "source": [
    "# Freeze the distribution and display the frozen pmf:\n",
    "fig, (axhome, axaway, axt) = plt.subplots(3, 1, figsize = (12, 16))\n",
    "\n",
    "# Home Goals\n",
    "home_rv = poisson(home_mu)\n",
    "axhome.vlines(home_x, 0, home_rv.pmf(home_x), colors = 'k' , linestyles = \"-\", lw = 1, \n",
    "          label = \"Home Goals frozen pmf\")\n",
    "axhome.legend(loc = \"best\", frameon = False)\n",
    "\n",
    "# Away Goals\n",
    "away_rv = poisson(away_mu)\n",
    "axaway.vlines(away_x, 0, away_rv.pmf(away_x), colors = 'k' , linestyles = \"-\", lw = 1, \n",
    "          label = \"Away Goals frozen pmf\")\n",
    "axhome.legend(loc = \"best\", frameon = False)\n",
    "\n",
    "# Total Goals\n",
    "t_rv = poisson(t_mu)\n",
    "axt.vlines(t_x, 0, t_rv.pmf(t_x), colors = 'k' , linestyles = \"-\", lw = 1, \n",
    "           label = \"Total Goals frozen pmf\")\n",
    "axt.legend(loc = \"best\", frameon = False)\n",
    "\n",
    "plt.show()"
   ]
  },
  {
   "cell_type": "code",
   "execution_count": null,
   "metadata": {},
   "outputs": [],
   "source": [
    "#Check accuracy of cdf and ppf:\n",
    "home_prob = poisson.cdf(home_x, home_mu)\n",
    "away_prob = poisson.cdf(away_x, away_mu)\n",
    "t_prob = poisson.cdf(t_x, t_mu)\n",
    "\n",
    "# Return Results:\n",
    "print(f\"Home Goals Accuracy of cdf and ppf: {np.allclose(home_x, poisson.ppf(home_prob, home_mu))}\\nAway Goals Accuracy of cdf and ppf: {np.allclose(away_x, poisson.ppf(away_prob, away_mu))}\\nTotal Goals Accuracy of cdf and ppf: {np.allclose(t_x, poisson.ppf(t_prob, t_mu))}\")"
   ]
  },
  {
   "cell_type": "code",
   "execution_count": null,
   "metadata": {},
   "outputs": [],
   "source": [
    "# Create Poisson Distribution w/the mean of each col (away goals, home goals, and total goals);\n",
    "# include events that haven't occured (13 goals, 14, 28... +inf), to create expected occurences;\n",
    "\n",
    "# is the mean right?\n",
    "home_expected_goals = poisson(mu = new_five38[\"home_goals\"].mean())\n",
    "\n",
    "x_axis = np.arange(0, len(new_five38[\"home_goals\"].value_counts()))\n",
    "plt.plot(x_axis, home_expected_goals.pmf(x_axis))"
   ]
  },
  {
   "cell_type": "code",
   "execution_count": null,
   "metadata": {},
   "outputs": [],
   "source": [
    "home_expected_goals.cdf(5)"
   ]
  },
  {
   "cell_type": "code",
   "execution_count": null,
   "metadata": {
    "scrolled": true
   },
   "outputs": [],
   "source": [
    "# Create Poisson pmf w/value_counts of each occurence for each col, with 0 for + that \n",
    "# col.max() +1 to create observed occurences;\n",
    "home_observed_goals = new_five38[\"home_goals\"].value_counts(normalize = True, \n",
    "                                                            sort = False)\n",
    "\n",
    "# TODO: Convert the abs freq of one to rel freq (or vice-versa for the other), so that they \n",
    "# can be compared;\n",
    "\n",
    "# compare observed to expected to get the p-value and get the answer!\n",
    "#from scipy.stats import kstest\n",
    "observed_values = np.array(new_five38[\"home_goals\"].value_counts().sort_index())\n",
    "expected_values = [int(home_expected_goals.pmf(i) * len(new_five38[\"home_goals\"])) \n",
    "                   for i in range(11)]\n",
    "\n",
    "print(\"observed:\", observed_values)\n",
    "print(\"expected\", expected_values)\n",
    "print()\n",
    "print(\"chi...........\", chisquare(observed_values, expected_values))\n",
    "#print(kstest(observed_values, home_expected_goals.cdf))\n",
    "\n",
    "x_axis = np.arange(0, len(new_five38[\"home_goals\"].value_counts()))\n",
    "plt.plot(x_axis, home_observed_goals)\n",
    "plt.plot(x_axis, home_expected_goals.pmf(x_axis))\n",
    "#print(home_observed_goals)"
   ]
  },
  {
   "cell_type": "code",
   "execution_count": null,
   "metadata": {},
   "outputs": [],
   "source": [
    "# Create Poisson Distribution w/the mean of each col (away goals, home goals, and total goals);\n",
    "# include events that haven't occured (13 goals, 14, 28... +inf), to create expected occurences;\n",
    "\n",
    "# is the mean right?\n",
    "away_expected_goals = poisson(mu = new_five38[\"away_goals\"].mean())\n",
    "\n",
    "x_axis = np.arange(0, len(new_five38[\"away_goals\"].value_counts()))\n",
    "plt.plot(x_axis, away_expected_goals.pmf(x_axis))"
   ]
  },
  {
   "cell_type": "code",
   "execution_count": null,
   "metadata": {},
   "outputs": [],
   "source": [
    "# Create Poisson pmf w/value_counts of each occurence for each col, with 0 for + that \n",
    "# col.max() +1 to create observed occurences;\n",
    "away_observed_goals = new_five38[\"away_goals\"].value_counts(normalize = True, \n",
    "                                                            sort = False)\n",
    "\n",
    "# TODO: Convert the abs freq of one to rel freq (or vice-versa for the other), so that they \n",
    "# can be compared;\n",
    "\n",
    "# compare observed to expected to get the p-value and get the answer!\n",
    "observed_values = np.array(new_five38[\"away_goals\"].value_counts().sort_index())\n",
    "expected_values = [int(home_expected_goals.pmf(i) * len(new_five38[\"away_goals\"])) \n",
    "                   for i in range(11)]\n",
    "\n",
    "print(\"observed:\", observed_values)\n",
    "print(\"expected\", expected_values)\n",
    "print()\n",
    "print(\"chi...........\", chisquare(observed_values, expected_values))\n",
    "#print(kstest(observed_values, home_expected_goals.cdf))\n",
    "\n",
    "x_axis = np.arange(0, len(new_five38[\"home_goals\"].value_counts()))\n",
    "plt.plot(x_axis, home_observed_goals)\n",
    "plt.plot(x_axis, home_expected_goals.pmf(x_axis))\n",
    "#print(home_observed_goals)"
   ]
  },
  {
   "cell_type": "code",
   "execution_count": null,
   "metadata": {},
   "outputs": [],
   "source": []
  },
  {
   "cell_type": "markdown",
   "metadata": {},
   "source": [
    "# IGNORE"
   ]
  },
  {
   "cell_type": "code",
   "execution_count": null,
   "metadata": {},
   "outputs": [],
   "source": [
    "# Chi2 test(s?) functions..?\n",
    "\n",
    "def getBins(xmin, xmax, n_bins):\n",
    "    \"\"\"\n",
    "    I copied from: \n",
    "    https://stats.stackexchange.com/questions/202617/implementing-chi-square-in-python-and-testing-on-scipys-poisson-and-norm-variat\n",
    "    I actully have no idea what it's doing.\n",
    "    \"\"\"\n",
    "    r = np.linspace(xmin, xmax, num = n_bins + 1, endpoint = True)\n",
    "    r = r + 10 ** (-10) # including rightmost\n",
    "    r[0] = r[0] - 2 * 10 ** (-10) # excluding xmin from (-Inf;xmin] bin\n",
    "    return np.concatenate((np.array([float('-inf')]), r, np.array([float('inf')])))\n",
    "\n",
    "# Calculates probabilities for each bin (a,b] within given cumulative distribution function \n",
    "def piCalcDecoratorNew(bins, *args):\n",
    "    def real_piCalcDecorator(cdfFunc):\n",
    "        def piCalc(*args):\n",
    "            piA = np.zeros(len(bins) - 1)\n",
    "            if len(args) == 1:\n",
    "                args = args[0]\n",
    "                piA[0] = cdfFunc(bins[1], args)  \n",
    "                piA[-1] = 1 - cdfFunc(bins[-2], args)\n",
    "                for i in range(1, len(bins) - 2):\n",
    "                    piA[i] = cdfFunc(bins[i + 1], args) - cdfFunc(bins[i], args)\n",
    "            else: #number of params >1\n",
    "                piA[0] = cdfFunc(bins[1], *args)            \n",
    "                piA[-1] = 1 - cdfFunc(bins[-2], *args)\n",
    "                for i in range(1, len(bins) -2):\n",
    "                    piA[i] = cdfFunc(bins[i + 1], *args) - cdfFunc(bins[i], *args)\n",
    "            return piA  \n",
    "        return piCalc\n",
    "    return real_piCalcDecorator\n",
    "\n",
    "# similar to scipy's chisquare()\n",
    "def chi2statistic(obs = np.array([16, 18, 16, 14, 12, 12], dtype = 'float'), \n",
    "                  exp = np.array([16, 16, 16, 16, 16, 8], dtype = 'float')):\n",
    "    temp = np.square(obs - exp, dtype = 'float')\n",
    "    with np.errstate(divide = 'ignore', invalid = 'ignore'):\n",
    "        temp = temp / exp\n",
    "        temp[exp == 0] = 0\n",
    "    return sum(temp)\n",
    "    # like return chisquare(obs, exp)\n",
    "\n",
    "def chi2test(df, x, alpha, cdfFunc, *args):\n",
    "    N = len(x)\n",
    "    xmin = min(x)\n",
    "    xmax = max(x)\n",
    "    bins = getBins(xmin, xmax, df - 2)\n",
    "    print(\"Bins for histogram are \")\n",
    "    print(bins)\n",
    "    piCalc = piCalcDecoratorNew(bins, *args)(cdfFunc)\n",
    "    piks = piCalc( *args)\n",
    "    print(\"Expected probability to be in a bin\")\n",
    "    print(piks)\n",
    "    a = piks * float(N)\n",
    "    b = np.histogram(x, bins)[0]\n",
    "    print(\"Observed probabilities for bins\")\n",
    "    print(b / float(N))\n",
    "    print(\"Chi2 statistic is {0}\".format(chi2statistic(b,a)))\n",
    "    print(\"Critical value is {0}\".format(chi2.ppf(alpha,df)))\n",
    "    return (chi2statistic(b,a),chi2.ppf(alpha,df))"
   ]
  },
  {
   "cell_type": "code",
   "execution_count": null,
   "metadata": {},
   "outputs": [],
   "source": [
    "# Testing on scipy's norm\n",
    "alpha = 0.05\n",
    "test_sequence = norm.rvs(loc = 10.0, scale = 2.0, size = 100000, random_state = 42)\n",
    "print(chi2test(5, test_sequence, alpha, norm.cdf, 10.0, 2.0))\n",
    "\n",
    "# Testing on scipy's poisson\n",
    "alpha = 0.05\n",
    "test_sequence = poisson.rvs(mu = 10, size = 100000, random_state = 42)\n",
    "print(chi2test(5, test_sequence, alpha, poisson.cdf, 10.0))\n",
    "\n",
    "# Testing on scipy's poisson with other parameters\n",
    "alpha = 0.05\n",
    "test_sequence = poisson.rvs(mu = 10, size = 300000, random_state = 42)\n",
    "\n",
    "print(chi2test(max(test_sequence), test_sequence, alpha, poisson.cdf, 10.0))"
   ]
  },
  {
   "cell_type": "code",
   "execution_count": null,
   "metadata": {},
   "outputs": [],
   "source": [
    "# Actually testing..?\n",
    "# Testing on scipy's poisson\n",
    "alpha = 0.05\n",
    "\n",
    "# Home Goals\n",
    "test_sequence = poisson.rvs(mu = home_mu, size = len(new_five38[\"home_goals\"]), \n",
    "                            random_state = 42)\n",
    "\n",
    "print(\"For Home Goals:\")\n",
    "print(chi2test(max(test_sequence), test_sequence, alpha, poisson.cdf, 10.0))\n",
    "print()\n",
    "\n",
    "# Away Goals\n",
    "test_sequence = poisson.rvs(mu = away_mu, size = len(new_five38[\"away_goals\"]), \n",
    "                            random_state = 42)\n",
    "\n",
    "print(\"For Away Goals:\")\n",
    "print(chi2test(max(test_sequence), test_sequence, alpha, poisson.cdf, 10.0))\n",
    "print()\n",
    "\n",
    "# Total Goals\n",
    "test_sequence = poisson.rvs(mu = t_mu, size = len(new_five38[\"t_goals\"]), \n",
    "                            random_state = 42)\n",
    "\n",
    "print(\"For Total Goals:\")\n",
    "print(chi2test(max(test_sequence), test_sequence, alpha, poisson.cdf, 10.0))\n",
    "print()"
   ]
  },
  {
   "cell_type": "code",
   "execution_count": null,
   "metadata": {},
   "outputs": [],
   "source": [
    "observed_values = np.array([18,21,16,7,15])\n",
    "expected_values = np.array([22,19,44,8,16])\n",
    "\n",
    "chisquare(observed_values, f_exp = expected_values)"
   ]
  },
  {
   "cell_type": "code",
   "execution_count": null,
   "metadata": {},
   "outputs": [],
   "source": [
    "new_five38[\"home_goals\"]"
   ]
  },
  {
   "cell_type": "code",
   "execution_count": null,
   "metadata": {},
   "outputs": [],
   "source": []
  }
 ],
 "metadata": {
  "kernelspec": {
   "display_name": "Python 3",
   "language": "python",
   "name": "python3"
  },
  "language_info": {
   "codemirror_mode": {
    "name": "ipython",
    "version": 3
   },
   "file_extension": ".py",
   "mimetype": "text/x-python",
   "name": "python",
   "nbconvert_exporter": "python",
   "pygments_lexer": "ipython3",
   "version": "3.7.4"
  }
 },
 "nbformat": 4,
 "nbformat_minor": 2
}
